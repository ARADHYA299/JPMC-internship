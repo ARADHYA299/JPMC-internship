{
  "nbformat": 4,
  "nbformat_minor": 0,
  "metadata": {
    "colab": {
      "provenance": [],
      "authorship_tag": "ABX9TyNZChHmh2qncES1M1HAZb04",
      "include_colab_link": true
    },
    "kernelspec": {
      "name": "python3",
      "display_name": "Python 3"
    },
    "language_info": {
      "name": "python"
    }
  },
  "cells": [
    {
      "cell_type": "markdown",
      "metadata": {
        "id": "view-in-github",
        "colab_type": "text"
      },
      "source": [
        "<a href=\"https://colab.research.google.com/github/ARADHYA299/JPMC-internship/blob/main/pagesummarizerLLM.ipynb\" target=\"_parent\"><img src=\"https://colab.research.google.com/assets/colab-badge.svg\" alt=\"Open In Colab\"/></a>"
      ]
    },
    {
      "cell_type": "code",
      "execution_count": 6,
      "metadata": {
        "id": "Olk_l7CqsqOc"
      },
      "outputs": [],
      "source": [
        "# if ollama not downloaded use !pip install ollama\n",
        "import requests\n",
        "import ollama\n",
        "from bs4 import BeautifulSoup\n",
        "from IPython.display import display , Markdown"
      ]
    },
    {
      "cell_type": "code",
      "source": [
        "OLLAMA_API = \"http://localhost:11434/api/chat\"\n",
        "HEADERS = {\n",
        " \"User-Agent\": \"Mozilla/5.0 (Windows NT 10.0; Win64; x64) AppleWebKit/537.36 (KHTML, like Gecko) Chrome/117.0.0.0 Safari/537.36\"\n",
        "}\n",
        "\n",
        "model = \"llama3.2\""
      ],
      "metadata": {
        "id": "JC5rqPNRsrFd"
      },
      "execution_count": 2,
      "outputs": []
    },
    {
      "cell_type": "code",
      "source": [
        "messages = [{\"role\":\"user\" , \"content\":\"hello this is my first time doing this!! im very excited and anxious\"}]"
      ],
      "metadata": {
        "id": "gYxx0--ysuKJ"
      },
      "execution_count": 3,
      "outputs": []
    },
    {
      "cell_type": "code",
      "source": [
        "response = ollama.chat(model = model , messages = messages)\n",
        "print(response['message']['content'])"
      ],
      "metadata": {
        "id": "ILcHegdRswKR"
      },
      "execution_count": 6,
      "outputs": []
    },
    {
      "cell_type": "code",
      "source": [
        "class Website:\n",
        "    def __init__(self,url):\n",
        "        self.url = url\n",
        "        response = requests.get(url , headers = HEADERS)\n",
        "        soup = BeautifulSoup(response.content , 'html.parser')\n",
        "        self.title = soup.title.string if soup.title else \"NO TITLE FOUND\"\n",
        "        for irrelevant in soup.body([\"script\", \"style\", \"img\", \"input\"]):\n",
        "            irrelevant.decompose()\n",
        "        self.text = soup.body.get_text(separator = '\\n' , strip = True)\n",
        "\n",
        "cnn = Website(\"https://edwarddonner.com\")\n",
        "print(cnn.title)\n",
        "print(cnn.text)\n"
      ],
      "metadata": {
        "id": "Ta-lGUgGsyLB"
      },
      "execution_count": null,
      "outputs": []
    },
    {
      "cell_type": "code",
      "source": [
        "system_prompt = \"You are an assistant that analyzes the contents of a website \\\n",
        "and provides a short summary, ignoring text that might be navigation related. \\\n",
        "Respond in markdown.\""
      ],
      "metadata": {
        "id": "9hz13S-Zs4ah"
      },
      "execution_count": null,
      "outputs": []
    },
    {
      "cell_type": "code",
      "source": [
        "def user_prompt_for(website):\n",
        "    user_prompt = f\"the title of this website is {website.title}\"\n",
        "    user_prompt +=  \"\\nThe contents of this website is as follows; \\\n",
        "please provide a short summary of this website in markdown. \\\n",
        "If it includes news or announcements, then summarize these too.\\n\\n\"\n",
        "    user_prompt += website.text\n",
        "    return user_prompt\n",
        ""
      ],
      "metadata": {
        "id": "O5bmf7dps7yl"
      },
      "execution_count": null,
      "outputs": []
    },
    {
      "cell_type": "code",
      "source": [
        "def summarize(url):\n",
        "    website = Website(url)\n",
        "    response = ollama.chat(model = \"llama3.2\" , messages = [{\"role\":\"user\" , \"content\": website.text}])\n",
        "    return response['message']['content']\n",
        ""
      ],
      "metadata": {
        "id": "QnotVZ64s8X9"
      },
      "execution_count": 5,
      "outputs": []
    },
    {
      "cell_type": "code",
      "source": [
        "summarize(\"https://www.imsl.com/blog/solving-transportation-problem\")"
      ],
      "metadata": {
        "id": "dL9uCZb5s-_l"
      },
      "execution_count": 6,
      "outputs": []
    }
  ]
}